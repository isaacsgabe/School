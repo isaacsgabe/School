{
  "nbformat": 4,
  "nbformat_minor": 0,
  "metadata": {
    "colab": {
      "provenance": []
    },
    "kernelspec": {
      "name": "python3",
      "display_name": "Python 3"
    },
    "language_info": {
      "name": "python"
    }
  },
  "cells": [
    {
      "cell_type": "code",
      "source": [
        "import numpy as np\n",
        "import pandas as pd\n"
      ],
      "metadata": {
        "id": "Oj6eNjF1Qr_m"
      },
      "execution_count": null,
      "outputs": []
    },
    {
      "cell_type": "code",
      "source": [
        "import pandas as pd\n",
        "from sklearn.feature_extraction.text import CountVectorizer\n",
        "from sklearn.feature_selection import mutual_info_classif\n",
        "from nltk.tokenize import word_tokenize\n",
        "import nltk\n",
        "\n",
        "# Download NLTK resources\n",
        "nltk.download('punkt')\n",
        "\n",
        "# Load the first Excel file (news-pal.xlsx)\n",
        "url_pal = \"https://github.com/rosenfa/ai/blob/master/news-pal.xlsx?raw=true\"\n",
        "df_pal = pd.read_excel(url_pal)\n",
        "\n",
        "# Load the second Excel file (news-israel.xlsx)\n",
        "url_israel = \"https://github.com/rosenfa/ai/blob/master/news-israel.xlsx?raw=true\"\n",
        "df_israel = pd.read_excel(url_israel)\n",
        "\n",
        "df_israel.dropna(inplace=True)\n",
        "df_pal.dropna(inplace=True)\n",
        "\n",
        "\n",
        "# Add a 'target' column to both dataframes\n",
        "df_pal['target'] = False  # Assuming 'false' for news-pal.xlsx\n",
        "df_israel['target'] = True   # Assuming 'true' for news-israel.xlsx\n",
        "\n",
        "\n",
        "# Concatenate the two dataframes\n",
        "df_combined = pd.concat([df_pal, df_israel], ignore_index=True)\n",
        "df_combined.dropna(inplace=True)\n",
        "\n",
        "# Tokenize the documents\n",
        "#tokenized_documents = [word_tokenize(doc) for doc in df_combined['Content'].dropna()]"
      ],
      "metadata": {
        "colab": {
          "base_uri": "https://localhost:8080/"
        },
        "id": "eqr9rqSDGv0e",
        "outputId": "42fbb49c-2b61-4050-9f45-bd09b2ae9880"
      },
      "execution_count": null,
      "outputs": [
        {
          "output_type": "stream",
          "name": "stderr",
          "text": [
            "[nltk_data] Downloading package punkt to /root/nltk_data...\n",
            "[nltk_data]   Package punkt is already up-to-date!\n"
          ]
        }
      ]
    },
    {
      "cell_type": "code",
      "source": [
        "print(df_pal.size)\n",
        "print(df_israel.size)\n",
        "print(df_combined.size)"
      ],
      "metadata": {
        "colab": {
          "base_uri": "https://localhost:8080/"
        },
        "id": "d4QOHMPDcY5f",
        "outputId": "22d5d9c4-c082-4ff4-ae2d-e2e74fed1d56"
      },
      "execution_count": null,
      "outputs": [
        {
          "output_type": "stream",
          "name": "stdout",
          "text": [
            "950\n",
            "950\n",
            "1900\n"
          ]
        }
      ]
    },
    {
      "cell_type": "code",
      "source": [
        "import nltk\n",
        "from nltk.corpus import stopwords\n",
        "from nltk.tokenize import word_tokenize\n",
        "\n",
        "nltk.download('stopwords')\n",
        "\n",
        "\n",
        "def remove_stopwords(text):\n",
        "    stop_words = set(stopwords.words('english'))\n",
        "    word_tokens = word_tokenize(text)\n",
        "    filtered_text = [word for word in word_tokens if word.lower() not in stop_words]\n",
        "    return ' '.join(filtered_text)\n",
        "\n",
        "df_combined['Content'] = df_combined['Content'].apply(remove_stopwords)"
      ],
      "metadata": {
        "id": "F5lZwcTnmafw",
        "colab": {
          "base_uri": "https://localhost:8080/"
        },
        "outputId": "abfcf65e-1127-4d94-9367-b343820128ef"
      },
      "execution_count": null,
      "outputs": [
        {
          "output_type": "stream",
          "name": "stderr",
          "text": [
            "[nltk_data] Downloading package stopwords to /root/nltk_data...\n",
            "[nltk_data]   Package stopwords is already up-to-date!\n"
          ]
        }
      ]
    },
    {
      "cell_type": "code",
      "source": [
        "df_combined"
      ],
      "metadata": {
        "id": "u0aiNSxleTau",
        "colab": {
          "base_uri": "https://localhost:8080/",
          "height": 423
        },
        "outputId": "d652e65b-6547-4991-8e00-aead2eb5f0f4"
      },
      "execution_count": null,
      "outputs": [
        {
          "output_type": "execute_result",
          "data": {
            "text/plain": [
              "                                               Content  target\n",
              "0    : Qatar , mediator Gaza truce talks , confirme...   False\n",
              "1    Hamas says holds US President Joe Biden admini...   False\n",
              "2    Israeli attacks besieged Gaza Strip amount toœ...   False\n",
              "3    Israeli warplanes artillery bomb several areas...   False\n",
              "4    `` Israel respects international laws conventi...   False\n",
              "..                                                 ...     ...\n",
              "945  White nationalists , usually anti-Muslim bigot...    True\n",
              "946  Israel agreed hostage deal , Hamas may intend ...    True\n",
              "947  rise campus antisemitism around world , Techni...    True\n",
              "948  WZO offers mobile showers IDF soldiers heart G...    True\n",
              "949  Yemen ’ Houthis claim hijack Israeli ship Red ...    True\n",
              "\n",
              "[950 rows x 2 columns]"
            ],
            "text/html": [
              "\n",
              "  <div id=\"df-bd79a60f-1cb1-4732-b5e1-69e34b8826aa\" class=\"colab-df-container\">\n",
              "    <div>\n",
              "<style scoped>\n",
              "    .dataframe tbody tr th:only-of-type {\n",
              "        vertical-align: middle;\n",
              "    }\n",
              "\n",
              "    .dataframe tbody tr th {\n",
              "        vertical-align: top;\n",
              "    }\n",
              "\n",
              "    .dataframe thead th {\n",
              "        text-align: right;\n",
              "    }\n",
              "</style>\n",
              "<table border=\"1\" class=\"dataframe\">\n",
              "  <thead>\n",
              "    <tr style=\"text-align: right;\">\n",
              "      <th></th>\n",
              "      <th>Content</th>\n",
              "      <th>target</th>\n",
              "    </tr>\n",
              "  </thead>\n",
              "  <tbody>\n",
              "    <tr>\n",
              "      <th>0</th>\n",
              "      <td>: Qatar , mediator Gaza truce talks , confirme...</td>\n",
              "      <td>False</td>\n",
              "    </tr>\n",
              "    <tr>\n",
              "      <th>1</th>\n",
              "      <td>Hamas says holds US President Joe Biden admini...</td>\n",
              "      <td>False</td>\n",
              "    </tr>\n",
              "    <tr>\n",
              "      <th>2</th>\n",
              "      <td>Israeli attacks besieged Gaza Strip amount toœ...</td>\n",
              "      <td>False</td>\n",
              "    </tr>\n",
              "    <tr>\n",
              "      <th>3</th>\n",
              "      <td>Israeli warplanes artillery bomb several areas...</td>\n",
              "      <td>False</td>\n",
              "    </tr>\n",
              "    <tr>\n",
              "      <th>4</th>\n",
              "      <td>`` Israel respects international laws conventi...</td>\n",
              "      <td>False</td>\n",
              "    </tr>\n",
              "    <tr>\n",
              "      <th>...</th>\n",
              "      <td>...</td>\n",
              "      <td>...</td>\n",
              "    </tr>\n",
              "    <tr>\n",
              "      <th>945</th>\n",
              "      <td>White nationalists , usually anti-Muslim bigot...</td>\n",
              "      <td>True</td>\n",
              "    </tr>\n",
              "    <tr>\n",
              "      <th>946</th>\n",
              "      <td>Israel agreed hostage deal , Hamas may intend ...</td>\n",
              "      <td>True</td>\n",
              "    </tr>\n",
              "    <tr>\n",
              "      <th>947</th>\n",
              "      <td>rise campus antisemitism around world , Techni...</td>\n",
              "      <td>True</td>\n",
              "    </tr>\n",
              "    <tr>\n",
              "      <th>948</th>\n",
              "      <td>WZO offers mobile showers IDF soldiers heart G...</td>\n",
              "      <td>True</td>\n",
              "    </tr>\n",
              "    <tr>\n",
              "      <th>949</th>\n",
              "      <td>Yemen ’ Houthis claim hijack Israeli ship Red ...</td>\n",
              "      <td>True</td>\n",
              "    </tr>\n",
              "  </tbody>\n",
              "</table>\n",
              "<p>950 rows × 2 columns</p>\n",
              "</div>\n",
              "    <div class=\"colab-df-buttons\">\n",
              "\n",
              "  <div class=\"colab-df-container\">\n",
              "    <button class=\"colab-df-convert\" onclick=\"convertToInteractive('df-bd79a60f-1cb1-4732-b5e1-69e34b8826aa')\"\n",
              "            title=\"Convert this dataframe to an interactive table.\"\n",
              "            style=\"display:none;\">\n",
              "\n",
              "  <svg xmlns=\"http://www.w3.org/2000/svg\" height=\"24px\" viewBox=\"0 -960 960 960\">\n",
              "    <path d=\"M120-120v-720h720v720H120Zm60-500h600v-160H180v160Zm220 220h160v-160H400v160Zm0 220h160v-160H400v160ZM180-400h160v-160H180v160Zm440 0h160v-160H620v160ZM180-180h160v-160H180v160Zm440 0h160v-160H620v160Z\"/>\n",
              "  </svg>\n",
              "    </button>\n",
              "\n",
              "  <style>\n",
              "    .colab-df-container {\n",
              "      display:flex;\n",
              "      gap: 12px;\n",
              "    }\n",
              "\n",
              "    .colab-df-convert {\n",
              "      background-color: #E8F0FE;\n",
              "      border: none;\n",
              "      border-radius: 50%;\n",
              "      cursor: pointer;\n",
              "      display: none;\n",
              "      fill: #1967D2;\n",
              "      height: 32px;\n",
              "      padding: 0 0 0 0;\n",
              "      width: 32px;\n",
              "    }\n",
              "\n",
              "    .colab-df-convert:hover {\n",
              "      background-color: #E2EBFA;\n",
              "      box-shadow: 0px 1px 2px rgba(60, 64, 67, 0.3), 0px 1px 3px 1px rgba(60, 64, 67, 0.15);\n",
              "      fill: #174EA6;\n",
              "    }\n",
              "\n",
              "    .colab-df-buttons div {\n",
              "      margin-bottom: 4px;\n",
              "    }\n",
              "\n",
              "    [theme=dark] .colab-df-convert {\n",
              "      background-color: #3B4455;\n",
              "      fill: #D2E3FC;\n",
              "    }\n",
              "\n",
              "    [theme=dark] .colab-df-convert:hover {\n",
              "      background-color: #434B5C;\n",
              "      box-shadow: 0px 1px 3px 1px rgba(0, 0, 0, 0.15);\n",
              "      filter: drop-shadow(0px 1px 2px rgba(0, 0, 0, 0.3));\n",
              "      fill: #FFFFFF;\n",
              "    }\n",
              "  </style>\n",
              "\n",
              "    <script>\n",
              "      const buttonEl =\n",
              "        document.querySelector('#df-bd79a60f-1cb1-4732-b5e1-69e34b8826aa button.colab-df-convert');\n",
              "      buttonEl.style.display =\n",
              "        google.colab.kernel.accessAllowed ? 'block' : 'none';\n",
              "\n",
              "      async function convertToInteractive(key) {\n",
              "        const element = document.querySelector('#df-bd79a60f-1cb1-4732-b5e1-69e34b8826aa');\n",
              "        const dataTable =\n",
              "          await google.colab.kernel.invokeFunction('convertToInteractive',\n",
              "                                                    [key], {});\n",
              "        if (!dataTable) return;\n",
              "\n",
              "        const docLinkHtml = 'Like what you see? Visit the ' +\n",
              "          '<a target=\"_blank\" href=https://colab.research.google.com/notebooks/data_table.ipynb>data table notebook</a>'\n",
              "          + ' to learn more about interactive tables.';\n",
              "        element.innerHTML = '';\n",
              "        dataTable['output_type'] = 'display_data';\n",
              "        await google.colab.output.renderOutput(dataTable, element);\n",
              "        const docLink = document.createElement('div');\n",
              "        docLink.innerHTML = docLinkHtml;\n",
              "        element.appendChild(docLink);\n",
              "      }\n",
              "    </script>\n",
              "  </div>\n",
              "\n",
              "\n",
              "<div id=\"df-7fd198f1-5e48-4dd8-93b3-93c6901a1e44\">\n",
              "  <button class=\"colab-df-quickchart\" onclick=\"quickchart('df-7fd198f1-5e48-4dd8-93b3-93c6901a1e44')\"\n",
              "            title=\"Suggest charts\"\n",
              "            style=\"display:none;\">\n",
              "\n",
              "<svg xmlns=\"http://www.w3.org/2000/svg\" height=\"24px\"viewBox=\"0 0 24 24\"\n",
              "     width=\"24px\">\n",
              "    <g>\n",
              "        <path d=\"M19 3H5c-1.1 0-2 .9-2 2v14c0 1.1.9 2 2 2h14c1.1 0 2-.9 2-2V5c0-1.1-.9-2-2-2zM9 17H7v-7h2v7zm4 0h-2V7h2v10zm4 0h-2v-4h2v4z\"/>\n",
              "    </g>\n",
              "</svg>\n",
              "  </button>\n",
              "\n",
              "<style>\n",
              "  .colab-df-quickchart {\n",
              "      --bg-color: #E8F0FE;\n",
              "      --fill-color: #1967D2;\n",
              "      --hover-bg-color: #E2EBFA;\n",
              "      --hover-fill-color: #174EA6;\n",
              "      --disabled-fill-color: #AAA;\n",
              "      --disabled-bg-color: #DDD;\n",
              "  }\n",
              "\n",
              "  [theme=dark] .colab-df-quickchart {\n",
              "      --bg-color: #3B4455;\n",
              "      --fill-color: #D2E3FC;\n",
              "      --hover-bg-color: #434B5C;\n",
              "      --hover-fill-color: #FFFFFF;\n",
              "      --disabled-bg-color: #3B4455;\n",
              "      --disabled-fill-color: #666;\n",
              "  }\n",
              "\n",
              "  .colab-df-quickchart {\n",
              "    background-color: var(--bg-color);\n",
              "    border: none;\n",
              "    border-radius: 50%;\n",
              "    cursor: pointer;\n",
              "    display: none;\n",
              "    fill: var(--fill-color);\n",
              "    height: 32px;\n",
              "    padding: 0;\n",
              "    width: 32px;\n",
              "  }\n",
              "\n",
              "  .colab-df-quickchart:hover {\n",
              "    background-color: var(--hover-bg-color);\n",
              "    box-shadow: 0 1px 2px rgba(60, 64, 67, 0.3), 0 1px 3px 1px rgba(60, 64, 67, 0.15);\n",
              "    fill: var(--button-hover-fill-color);\n",
              "  }\n",
              "\n",
              "  .colab-df-quickchart-complete:disabled,\n",
              "  .colab-df-quickchart-complete:disabled:hover {\n",
              "    background-color: var(--disabled-bg-color);\n",
              "    fill: var(--disabled-fill-color);\n",
              "    box-shadow: none;\n",
              "  }\n",
              "\n",
              "  .colab-df-spinner {\n",
              "    border: 2px solid var(--fill-color);\n",
              "    border-color: transparent;\n",
              "    border-bottom-color: var(--fill-color);\n",
              "    animation:\n",
              "      spin 1s steps(1) infinite;\n",
              "  }\n",
              "\n",
              "  @keyframes spin {\n",
              "    0% {\n",
              "      border-color: transparent;\n",
              "      border-bottom-color: var(--fill-color);\n",
              "      border-left-color: var(--fill-color);\n",
              "    }\n",
              "    20% {\n",
              "      border-color: transparent;\n",
              "      border-left-color: var(--fill-color);\n",
              "      border-top-color: var(--fill-color);\n",
              "    }\n",
              "    30% {\n",
              "      border-color: transparent;\n",
              "      border-left-color: var(--fill-color);\n",
              "      border-top-color: var(--fill-color);\n",
              "      border-right-color: var(--fill-color);\n",
              "    }\n",
              "    40% {\n",
              "      border-color: transparent;\n",
              "      border-right-color: var(--fill-color);\n",
              "      border-top-color: var(--fill-color);\n",
              "    }\n",
              "    60% {\n",
              "      border-color: transparent;\n",
              "      border-right-color: var(--fill-color);\n",
              "    }\n",
              "    80% {\n",
              "      border-color: transparent;\n",
              "      border-right-color: var(--fill-color);\n",
              "      border-bottom-color: var(--fill-color);\n",
              "    }\n",
              "    90% {\n",
              "      border-color: transparent;\n",
              "      border-bottom-color: var(--fill-color);\n",
              "    }\n",
              "  }\n",
              "</style>\n",
              "\n",
              "  <script>\n",
              "    async function quickchart(key) {\n",
              "      const quickchartButtonEl =\n",
              "        document.querySelector('#' + key + ' button');\n",
              "      quickchartButtonEl.disabled = true;  // To prevent multiple clicks.\n",
              "      quickchartButtonEl.classList.add('colab-df-spinner');\n",
              "      try {\n",
              "        const charts = await google.colab.kernel.invokeFunction(\n",
              "            'suggestCharts', [key], {});\n",
              "      } catch (error) {\n",
              "        console.error('Error during call to suggestCharts:', error);\n",
              "      }\n",
              "      quickchartButtonEl.classList.remove('colab-df-spinner');\n",
              "      quickchartButtonEl.classList.add('colab-df-quickchart-complete');\n",
              "    }\n",
              "    (() => {\n",
              "      let quickchartButtonEl =\n",
              "        document.querySelector('#df-7fd198f1-5e48-4dd8-93b3-93c6901a1e44 button');\n",
              "      quickchartButtonEl.style.display =\n",
              "        google.colab.kernel.accessAllowed ? 'block' : 'none';\n",
              "    })();\n",
              "  </script>\n",
              "</div>\n",
              "\n",
              "  <div id=\"id_294d9d8b-68e8-4914-a738-d30c79e872af\">\n",
              "    <style>\n",
              "      .colab-df-generate {\n",
              "        background-color: #E8F0FE;\n",
              "        border: none;\n",
              "        border-radius: 50%;\n",
              "        cursor: pointer;\n",
              "        display: none;\n",
              "        fill: #1967D2;\n",
              "        height: 32px;\n",
              "        padding: 0 0 0 0;\n",
              "        width: 32px;\n",
              "      }\n",
              "\n",
              "      .colab-df-generate:hover {\n",
              "        background-color: #E2EBFA;\n",
              "        box-shadow: 0px 1px 2px rgba(60, 64, 67, 0.3), 0px 1px 3px 1px rgba(60, 64, 67, 0.15);\n",
              "        fill: #174EA6;\n",
              "      }\n",
              "\n",
              "      [theme=dark] .colab-df-generate {\n",
              "        background-color: #3B4455;\n",
              "        fill: #D2E3FC;\n",
              "      }\n",
              "\n",
              "      [theme=dark] .colab-df-generate:hover {\n",
              "        background-color: #434B5C;\n",
              "        box-shadow: 0px 1px 3px 1px rgba(0, 0, 0, 0.15);\n",
              "        filter: drop-shadow(0px 1px 2px rgba(0, 0, 0, 0.3));\n",
              "        fill: #FFFFFF;\n",
              "      }\n",
              "    </style>\n",
              "    <button class=\"colab-df-generate\" onclick=\"generateWithVariable('df_combined')\"\n",
              "            title=\"Generate code using this dataframe.\"\n",
              "            style=\"display:none;\">\n",
              "\n",
              "  <svg xmlns=\"http://www.w3.org/2000/svg\" height=\"24px\"viewBox=\"0 0 24 24\"\n",
              "       width=\"24px\">\n",
              "    <path d=\"M7,19H8.4L18.45,9,17,7.55,7,17.6ZM5,21V16.75L18.45,3.32a2,2,0,0,1,2.83,0l1.4,1.43a1.91,1.91,0,0,1,.58,1.4,1.91,1.91,0,0,1-.58,1.4L9.25,21ZM18.45,9,17,7.55Zm-12,3A5.31,5.31,0,0,0,4.9,8.1,5.31,5.31,0,0,0,1,6.5,5.31,5.31,0,0,0,4.9,4.9,5.31,5.31,0,0,0,6.5,1,5.31,5.31,0,0,0,8.1,4.9,5.31,5.31,0,0,0,12,6.5,5.46,5.46,0,0,0,6.5,12Z\"/>\n",
              "  </svg>\n",
              "    </button>\n",
              "    <script>\n",
              "      (() => {\n",
              "      const buttonEl =\n",
              "        document.querySelector('#id_294d9d8b-68e8-4914-a738-d30c79e872af button.colab-df-generate');\n",
              "      buttonEl.style.display =\n",
              "        google.colab.kernel.accessAllowed ? 'block' : 'none';\n",
              "\n",
              "      buttonEl.onclick = () => {\n",
              "        google.colab.notebook.generateWithVariable('df_combined');\n",
              "      }\n",
              "      })();\n",
              "    </script>\n",
              "  </div>\n",
              "\n",
              "    </div>\n",
              "  </div>\n"
            ],
            "application/vnd.google.colaboratory.intrinsic+json": {
              "type": "dataframe",
              "variable_name": "df_combined",
              "summary": "{\n  \"name\": \"df_combined\",\n  \"rows\": 950,\n  \"fields\": [\n    {\n      \"column\": \"Content\",\n      \"properties\": {\n        \"dtype\": \"string\",\n        \"num_unique_values\": 949,\n        \"samples\": [\n          \"Spokesman Ministry Health Gaza : situation Indonesian Hospital catastrophic , Israeli occupation intensifying attacks Medical staff Indonesian Hospital insisting staying treat wounded Israeli\",\n          \"Hours cease-fire Hamas begins , Netanyahu says hostage deal `` right choice , '' vows war Gaza continue\",\n          \"chance development true dialogue Israelis # Palestinians , matter , chance development true dialogue within # Israeli society , schisms divides ? - opinion\"\n        ],\n        \"semantic_type\": \"\",\n        \"description\": \"\"\n      }\n    },\n    {\n      \"column\": \"target\",\n      \"properties\": {\n        \"dtype\": \"boolean\",\n        \"num_unique_values\": 2,\n        \"samples\": [\n          true,\n          false\n        ],\n        \"semantic_type\": \"\",\n        \"description\": \"\"\n      }\n    }\n  ]\n}"
            }
          },
          "metadata": {},
          "execution_count": 52
        }
      ]
    },
    {
      "cell_type": "code",
      "source": [
        "# Extract a training & validation split\n",
        "validation_split = 0.2\n",
        "num_validation_samples = int(validation_split * len(df_combined))\n",
        "train_samples = df_combined[:-num_validation_samples]\n",
        "training_sentences = train_samples['Content'].values.astype(str)  # Convert to NumPy array and ensure string type\n",
        "labels = df_combined['target']"
      ],
      "metadata": {
        "id": "xlfaC1POXG0t"
      },
      "execution_count": null,
      "outputs": []
    },
    {
      "cell_type": "code",
      "source": [
        "val_samples = df_combined[-num_validation_samples:]\n",
        "testing_sentences  = val_samples['Content'].values.astype(str)  # Convert to NumPy array and ensure string type\n",
        "training_labels = labels[:-num_validation_samples]\n",
        "testing_labels = labels[-num_validation_samples:]"
      ],
      "metadata": {
        "id": "6_URV8XVV3FG"
      },
      "execution_count": null,
      "outputs": []
    },
    {
      "cell_type": "code",
      "source": [
        "training_sentences[0]"
      ],
      "metadata": {
        "id": "VM9cMfMQXqrt",
        "colab": {
          "base_uri": "https://localhost:8080/",
          "height": 35
        },
        "outputId": "a32a65b7-1471-4000-f6f3-c678632f2b21"
      },
      "execution_count": null,
      "outputs": [
        {
          "output_type": "execute_result",
          "data": {
            "text/plain": [
              "': Qatar , mediator Gaza truce talks , confirmed humanitarian pause agreed .'"
            ],
            "application/vnd.google.colaboratory.intrinsic+json": {
              "type": "string"
            }
          },
          "metadata": {},
          "execution_count": 55
        }
      ]
    },
    {
      "cell_type": "code",
      "source": [
        "#85%\n",
        "# # Vocabulary size of the tokenizer\n",
        "# vocab_size = 15000\n",
        "\n",
        "# # Maximum length of the padded sequences\n",
        "# max_length = 32\n",
        "\n",
        "# # # Output dimensions of the Embedding layer\n",
        "# embedding_dim = 32\n",
        "\n",
        "vocab_size = 500\n",
        "\n",
        "# Maximum length of the padded sequences\n",
        "max_length = 32\n",
        "\n",
        "# Output dimensions of the Embedding layer\n",
        "embedding_dim = 32"
      ],
      "metadata": {
        "id": "Re55vbj1UKr5"
      },
      "execution_count": null,
      "outputs": []
    },
    {
      "cell_type": "code",
      "execution_count": null,
      "metadata": {
        "id": "ygIzUlDHR-uL"
      },
      "outputs": [],
      "source": [
        "import numpy as np\n",
        "from keras.preprocessing.text import Tokenizer\n",
        "from keras.preprocessing.sequence import pad_sequences\n",
        "\n",
        "# Parameters for padding and OOV tokens\n",
        "trunc_type='post'\n",
        "padding_type='post'\n",
        "oov_tok = \"<OOV>\"\n",
        "\n",
        "# Initialize the Tokenizer class\n",
        "tokenizer = Tokenizer(num_words=vocab_size, oov_token=oov_tok)\n",
        "\n",
        "# Generate the word index dictionary\n",
        "tokenizer.fit_on_texts(training_sentences)\n",
        "word_index = tokenizer.word_index\n",
        "\n",
        "# Generate and pad the training sequences\n",
        "training_sequences = tokenizer.texts_to_sequences(training_sentences)\n",
        "training_padded = pad_sequences(training_sequences, maxlen=max_length, padding=padding_type, truncating=trunc_type)\n",
        "\n",
        "# Generate and pad the testing sequences\n",
        "testing_sequences = tokenizer.texts_to_sequences(testing_sentences)\n",
        "testing_padded = pad_sequences(testing_sequences, maxlen=max_length, padding=padding_type, truncating=trunc_type)\n",
        "\n",
        "# Convert the labels lists into numpy arrays\n",
        "training_labels = np.array(training_labels)\n",
        "testing_labels = np.array(testing_labels)"
      ]
    },
    {
      "cell_type": "code",
      "source": [
        "import tensorflow as tf\n",
        "\n",
        "# Initialize a GlobalAveragePooling1D (GAP1D) layer\n",
        "gap1d_layer = tf.keras.layers.GlobalAveragePooling1D()\n",
        "\n",
        "# Define sample array\n",
        "sample_array = np.array([[[10,2],[1,3],[1,1]]])\n",
        "\n",
        "# Print shape and contents of sample array\n",
        "print(f'shape of sample_array = {sample_array.shape}')\n",
        "print(f'sample array: {sample_array}')\n",
        "\n",
        "# Pass the sample array to the GAP1D layer\n",
        "output = gap1d_layer(sample_array)\n",
        "\n",
        "# Print shape and contents of the GAP1D output array\n",
        "print(f'output shape of gap1d_layer: {output.shape}')\n",
        "print(f'output array of gap1d_layer: {output.numpy()}')"
      ],
      "metadata": {
        "id": "btWdj6JuY_ej",
        "colab": {
          "base_uri": "https://localhost:8080/"
        },
        "outputId": "167e9d31-dbfc-4e20-fd3f-bf90c77881dc"
      },
      "execution_count": null,
      "outputs": [
        {
          "output_type": "stream",
          "name": "stdout",
          "text": [
            "shape of sample_array = (1, 3, 2)\n",
            "sample array: [[[10  2]\n",
            "  [ 1  3]\n",
            "  [ 1  1]]]\n",
            "output shape of gap1d_layer: (1, 2)\n",
            "output array of gap1d_layer: [[4 2]]\n"
          ]
        }
      ]
    },
    {
      "cell_type": "code",
      "source": [
        "# Build the model\n",
        "model = tf.keras.Sequential([\n",
        "    tf.keras.layers.Embedding(vocab_size, embedding_dim, input_length=max_length),\n",
        "    tf.keras.layers.Flatten(),\n",
        "    tf.keras.layers.Dense(24, activation='relu'),\n",
        "    tf.keras.layers.Dense(1, activation='sigmoid')\n",
        "])\n",
        "\n",
        "# Print the model summary\n",
        "model.summary()"
      ],
      "metadata": {
        "id": "4Alrtk0ZZC5T",
        "colab": {
          "base_uri": "https://localhost:8080/"
        },
        "outputId": "cd8f41b9-1aa0-40de-eb3c-0ec8b616bfd6"
      },
      "execution_count": null,
      "outputs": [
        {
          "output_type": "stream",
          "name": "stdout",
          "text": [
            "Model: \"sequential_4\"\n",
            "_________________________________________________________________\n",
            " Layer (type)                Output Shape              Param #   \n",
            "=================================================================\n",
            " embedding_4 (Embedding)     (None, 32, 32)            16000     \n",
            "                                                                 \n",
            " flatten_2 (Flatten)         (None, 1024)              0         \n",
            "                                                                 \n",
            " dense_8 (Dense)             (None, 24)                24600     \n",
            "                                                                 \n",
            " dense_9 (Dense)             (None, 1)                 25        \n",
            "                                                                 \n",
            "=================================================================\n",
            "Total params: 40625 (158.69 KB)\n",
            "Trainable params: 40625 (158.69 KB)\n",
            "Non-trainable params: 0 (0.00 Byte)\n",
            "_________________________________________________________________\n"
          ]
        }
      ]
    },
    {
      "cell_type": "code",
      "source": [
        "# Compile the model\n",
        "model.compile(loss='binary_crossentropy',optimizer='adam',metrics=['accuracy'])"
      ],
      "metadata": {
        "id": "WY1P_c4QZInI"
      },
      "execution_count": null,
      "outputs": []
    },
    {
      "cell_type": "code",
      "source": [
        "num_epochs = 30\n",
        "\n",
        "# Train the model\n",
        "history = model.fit(training_padded, training_labels, epochs=num_epochs, validation_data=(testing_padded, testing_labels), verbose=2)"
      ],
      "metadata": {
        "id": "82DH4AgpZL40",
        "colab": {
          "base_uri": "https://localhost:8080/"
        },
        "outputId": "c8b36c0f-3baf-4a49-e428-790d45615622"
      },
      "execution_count": null,
      "outputs": [
        {
          "output_type": "stream",
          "name": "stdout",
          "text": [
            "Epoch 1/30\n",
            "24/24 - 1s - loss: 0.6395 - accuracy: 0.6118 - val_loss: 0.9647 - val_accuracy: 0.0842 - 1s/epoch - 43ms/step\n",
            "Epoch 2/30\n",
            "24/24 - 0s - loss: 0.5586 - accuracy: 0.7368 - val_loss: 0.7082 - val_accuracy: 0.6947 - 97ms/epoch - 4ms/step\n",
            "Epoch 3/30\n",
            "24/24 - 0s - loss: 0.4549 - accuracy: 0.8145 - val_loss: 0.4976 - val_accuracy: 0.8211 - 103ms/epoch - 4ms/step\n",
            "Epoch 4/30\n",
            "24/24 - 0s - loss: 0.3047 - accuracy: 0.9066 - val_loss: 0.5014 - val_accuracy: 0.7737 - 84ms/epoch - 3ms/step\n",
            "Epoch 5/30\n",
            "24/24 - 0s - loss: 0.1882 - accuracy: 0.9421 - val_loss: 0.3723 - val_accuracy: 0.8474 - 101ms/epoch - 4ms/step\n",
            "Epoch 6/30\n",
            "24/24 - 0s - loss: 0.1146 - accuracy: 0.9711 - val_loss: 0.2986 - val_accuracy: 0.8947 - 83ms/epoch - 3ms/step\n",
            "Epoch 7/30\n",
            "24/24 - 0s - loss: 0.0772 - accuracy: 0.9829 - val_loss: 0.3775 - val_accuracy: 0.8263 - 99ms/epoch - 4ms/step\n",
            "Epoch 8/30\n",
            "24/24 - 0s - loss: 0.0560 - accuracy: 0.9895 - val_loss: 0.2775 - val_accuracy: 0.8947 - 102ms/epoch - 4ms/step\n",
            "Epoch 9/30\n",
            "24/24 - 0s - loss: 0.0398 - accuracy: 0.9921 - val_loss: 0.2857 - val_accuracy: 0.8789 - 93ms/epoch - 4ms/step\n",
            "Epoch 10/30\n",
            "24/24 - 0s - loss: 0.0293 - accuracy: 0.9974 - val_loss: 0.2558 - val_accuracy: 0.9053 - 95ms/epoch - 4ms/step\n",
            "Epoch 11/30\n",
            "24/24 - 0s - loss: 0.0229 - accuracy: 0.9987 - val_loss: 0.3235 - val_accuracy: 0.8684 - 94ms/epoch - 4ms/step\n",
            "Epoch 12/30\n",
            "24/24 - 0s - loss: 0.0191 - accuracy: 0.9974 - val_loss: 0.3705 - val_accuracy: 0.8474 - 93ms/epoch - 4ms/step\n",
            "Epoch 13/30\n",
            "24/24 - 0s - loss: 0.0150 - accuracy: 0.9974 - val_loss: 0.3443 - val_accuracy: 0.8684 - 93ms/epoch - 4ms/step\n",
            "Epoch 14/30\n",
            "24/24 - 0s - loss: 0.0113 - accuracy: 0.9987 - val_loss: 0.3146 - val_accuracy: 0.8789 - 94ms/epoch - 4ms/step\n",
            "Epoch 15/30\n",
            "24/24 - 0s - loss: 0.0094 - accuracy: 0.9987 - val_loss: 0.2956 - val_accuracy: 0.8842 - 88ms/epoch - 4ms/step\n",
            "Epoch 16/30\n",
            "24/24 - 0s - loss: 0.0078 - accuracy: 0.9987 - val_loss: 0.3151 - val_accuracy: 0.8789 - 95ms/epoch - 4ms/step\n",
            "Epoch 17/30\n",
            "24/24 - 0s - loss: 0.0069 - accuracy: 0.9987 - val_loss: 0.3562 - val_accuracy: 0.8632 - 99ms/epoch - 4ms/step\n",
            "Epoch 18/30\n",
            "24/24 - 0s - loss: 0.0067 - accuracy: 0.9987 - val_loss: 0.3353 - val_accuracy: 0.8684 - 119ms/epoch - 5ms/step\n",
            "Epoch 19/30\n",
            "24/24 - 0s - loss: 0.0054 - accuracy: 0.9987 - val_loss: 0.3613 - val_accuracy: 0.8632 - 90ms/epoch - 4ms/step\n",
            "Epoch 20/30\n",
            "24/24 - 0s - loss: 0.0049 - accuracy: 0.9987 - val_loss: 0.3080 - val_accuracy: 0.8947 - 102ms/epoch - 4ms/step\n",
            "Epoch 21/30\n",
            "24/24 - 0s - loss: 0.0040 - accuracy: 1.0000 - val_loss: 0.3425 - val_accuracy: 0.8789 - 108ms/epoch - 5ms/step\n",
            "Epoch 22/30\n",
            "24/24 - 0s - loss: 0.0036 - accuracy: 1.0000 - val_loss: 0.3523 - val_accuracy: 0.8789 - 99ms/epoch - 4ms/step\n",
            "Epoch 23/30\n",
            "24/24 - 0s - loss: 0.0031 - accuracy: 1.0000 - val_loss: 0.3385 - val_accuracy: 0.8842 - 106ms/epoch - 4ms/step\n",
            "Epoch 24/30\n",
            "24/24 - 0s - loss: 0.0028 - accuracy: 1.0000 - val_loss: 0.3432 - val_accuracy: 0.8842 - 91ms/epoch - 4ms/step\n",
            "Epoch 25/30\n",
            "24/24 - 0s - loss: 0.0024 - accuracy: 1.0000 - val_loss: 0.3481 - val_accuracy: 0.8895 - 89ms/epoch - 4ms/step\n",
            "Epoch 26/30\n",
            "24/24 - 0s - loss: 0.0022 - accuracy: 1.0000 - val_loss: 0.3492 - val_accuracy: 0.8895 - 102ms/epoch - 4ms/step\n",
            "Epoch 27/30\n",
            "24/24 - 0s - loss: 0.0021 - accuracy: 1.0000 - val_loss: 0.3363 - val_accuracy: 0.8895 - 94ms/epoch - 4ms/step\n",
            "Epoch 28/30\n",
            "24/24 - 0s - loss: 0.0019 - accuracy: 1.0000 - val_loss: 0.3489 - val_accuracy: 0.8895 - 107ms/epoch - 4ms/step\n",
            "Epoch 29/30\n",
            "24/24 - 0s - loss: 0.0017 - accuracy: 1.0000 - val_loss: 0.3689 - val_accuracy: 0.8842 - 93ms/epoch - 4ms/step\n",
            "Epoch 30/30\n",
            "24/24 - 0s - loss: 0.0015 - accuracy: 1.0000 - val_loss: 0.3444 - val_accuracy: 0.8895 - 87ms/epoch - 4ms/step\n"
          ]
        }
      ]
    },
    {
      "cell_type": "code",
      "source": [
        "# Build model2\n",
        "model2 = tf.keras.Sequential([\n",
        "    tf.keras.layers.Embedding(vocab_size, embedding_dim, input_length=max_length),\n",
        "    tf.keras.layers.GlobalAveragePooling1D(),\n",
        "    tf.keras.layers.Dense(24, activation='relu'),\n",
        "    tf.keras.layers.Dense(1, activation='sigmoid')\n",
        "])\n",
        "\n",
        "# Print the model summary\n",
        "model2.summary()"
      ],
      "metadata": {
        "id": "ve2py2HRaAEe",
        "colab": {
          "base_uri": "https://localhost:8080/"
        },
        "outputId": "878543a4-713a-4b48-a642-a22e2bda2a25"
      },
      "execution_count": null,
      "outputs": [
        {
          "output_type": "stream",
          "name": "stdout",
          "text": [
            "Model: \"sequential_5\"\n",
            "_________________________________________________________________\n",
            " Layer (type)                Output Shape              Param #   \n",
            "=================================================================\n",
            " embedding_5 (Embedding)     (None, 32, 32)            16000     \n",
            "                                                                 \n",
            " global_average_pooling1d_5  (None, 32)                0         \n",
            "  (GlobalAveragePooling1D)                                       \n",
            "                                                                 \n",
            " dense_10 (Dense)            (None, 24)                792       \n",
            "                                                                 \n",
            " dense_11 (Dense)            (None, 1)                 25        \n",
            "                                                                 \n",
            "=================================================================\n",
            "Total params: 16817 (65.69 KB)\n",
            "Trainable params: 16817 (65.69 KB)\n",
            "Non-trainable params: 0 (0.00 Byte)\n",
            "_________________________________________________________________\n"
          ]
        }
      ]
    },
    {
      "cell_type": "markdown",
      "source": [
        "Now with the simple flatten:"
      ],
      "metadata": {
        "id": "lbDnrTStZ9lz"
      }
    },
    {
      "cell_type": "code",
      "source": [
        "# Compile the model\n",
        "model2.compile(loss='binary_crossentropy',optimizer='adam',metrics=['accuracy'])"
      ],
      "metadata": {
        "id": "rQ6HZJWvaHLh"
      },
      "execution_count": null,
      "outputs": []
    },
    {
      "cell_type": "code",
      "source": [
        "num_epochs = 29\n",
        "\n",
        "# Train the model\n",
        "history = model2.fit(training_padded, training_labels, epochs=num_epochs, validation_data=(testing_padded, testing_labels), verbose=2)"
      ],
      "metadata": {
        "id": "9AM9rNZMaHLj",
        "colab": {
          "base_uri": "https://localhost:8080/"
        },
        "outputId": "cc604587-c209-4661-e32b-62ff20faacbf"
      },
      "execution_count": null,
      "outputs": [
        {
          "output_type": "stream",
          "name": "stdout",
          "text": [
            "Epoch 1/29\n",
            "24/24 - 1s - loss: 0.6820 - accuracy: 0.6250 - val_loss: 0.7283 - val_accuracy: 0.0158 - 1s/epoch - 44ms/step\n",
            "Epoch 2/29\n",
            "24/24 - 0s - loss: 0.6546 - accuracy: 0.6461 - val_loss: 0.7619 - val_accuracy: 0.0684 - 77ms/epoch - 3ms/step\n",
            "Epoch 3/29\n",
            "24/24 - 0s - loss: 0.6161 - accuracy: 0.6763 - val_loss: 0.7745 - val_accuracy: 0.1737 - 81ms/epoch - 3ms/step\n",
            "Epoch 4/29\n",
            "24/24 - 0s - loss: 0.5631 - accuracy: 0.7566 - val_loss: 0.7617 - val_accuracy: 0.3947 - 84ms/epoch - 4ms/step\n",
            "Epoch 5/29\n",
            "24/24 - 0s - loss: 0.5010 - accuracy: 0.8197 - val_loss: 0.6778 - val_accuracy: 0.5947 - 97ms/epoch - 4ms/step\n",
            "Epoch 6/29\n",
            "24/24 - 0s - loss: 0.4382 - accuracy: 0.8513 - val_loss: 0.6032 - val_accuracy: 0.7105 - 100ms/epoch - 4ms/step\n",
            "Epoch 7/29\n",
            "24/24 - 0s - loss: 0.3783 - accuracy: 0.8803 - val_loss: 0.5140 - val_accuracy: 0.7789 - 90ms/epoch - 4ms/step\n",
            "Epoch 8/29\n",
            "24/24 - 0s - loss: 0.3230 - accuracy: 0.9053 - val_loss: 0.4664 - val_accuracy: 0.7842 - 114ms/epoch - 5ms/step\n",
            "Epoch 9/29\n",
            "24/24 - 0s - loss: 0.2717 - accuracy: 0.9224 - val_loss: 0.4283 - val_accuracy: 0.8211 - 99ms/epoch - 4ms/step\n",
            "Epoch 10/29\n",
            "24/24 - 0s - loss: 0.2297 - accuracy: 0.9408 - val_loss: 0.3628 - val_accuracy: 0.8526 - 91ms/epoch - 4ms/step\n",
            "Epoch 11/29\n",
            "24/24 - 0s - loss: 0.1975 - accuracy: 0.9421 - val_loss: 0.3533 - val_accuracy: 0.8632 - 99ms/epoch - 4ms/step\n",
            "Epoch 12/29\n",
            "24/24 - 0s - loss: 0.1723 - accuracy: 0.9526 - val_loss: 0.3486 - val_accuracy: 0.8526 - 95ms/epoch - 4ms/step\n",
            "Epoch 13/29\n",
            "24/24 - 0s - loss: 0.1528 - accuracy: 0.9553 - val_loss: 0.2990 - val_accuracy: 0.9000 - 97ms/epoch - 4ms/step\n",
            "Epoch 14/29\n",
            "24/24 - 0s - loss: 0.1373 - accuracy: 0.9632 - val_loss: 0.2946 - val_accuracy: 0.8947 - 97ms/epoch - 4ms/step\n",
            "Epoch 15/29\n",
            "24/24 - 0s - loss: 0.1241 - accuracy: 0.9671 - val_loss: 0.2834 - val_accuracy: 0.9053 - 101ms/epoch - 4ms/step\n",
            "Epoch 16/29\n",
            "24/24 - 0s - loss: 0.1135 - accuracy: 0.9724 - val_loss: 0.2620 - val_accuracy: 0.9105 - 90ms/epoch - 4ms/step\n",
            "Epoch 17/29\n",
            "24/24 - 0s - loss: 0.1049 - accuracy: 0.9750 - val_loss: 0.2774 - val_accuracy: 0.8947 - 97ms/epoch - 4ms/step\n",
            "Epoch 18/29\n",
            "24/24 - 0s - loss: 0.0956 - accuracy: 0.9737 - val_loss: 0.2803 - val_accuracy: 0.9000 - 107ms/epoch - 4ms/step\n",
            "Epoch 19/29\n",
            "24/24 - 0s - loss: 0.0884 - accuracy: 0.9763 - val_loss: 0.2624 - val_accuracy: 0.9000 - 93ms/epoch - 4ms/step\n",
            "Epoch 20/29\n",
            "24/24 - 0s - loss: 0.0822 - accuracy: 0.9776 - val_loss: 0.2610 - val_accuracy: 0.9000 - 100ms/epoch - 4ms/step\n",
            "Epoch 21/29\n",
            "24/24 - 0s - loss: 0.0765 - accuracy: 0.9803 - val_loss: 0.2722 - val_accuracy: 0.8895 - 95ms/epoch - 4ms/step\n",
            "Epoch 22/29\n",
            "24/24 - 0s - loss: 0.0720 - accuracy: 0.9776 - val_loss: 0.2478 - val_accuracy: 0.9053 - 100ms/epoch - 4ms/step\n",
            "Epoch 23/29\n",
            "24/24 - 0s - loss: 0.0670 - accuracy: 0.9803 - val_loss: 0.2930 - val_accuracy: 0.8842 - 98ms/epoch - 4ms/step\n",
            "Epoch 24/29\n",
            "24/24 - 0s - loss: 0.0624 - accuracy: 0.9829 - val_loss: 0.2481 - val_accuracy: 0.9053 - 90ms/epoch - 4ms/step\n",
            "Epoch 25/29\n",
            "24/24 - 0s - loss: 0.0602 - accuracy: 0.9829 - val_loss: 0.2929 - val_accuracy: 0.8842 - 75ms/epoch - 3ms/step\n",
            "Epoch 26/29\n",
            "24/24 - 0s - loss: 0.0549 - accuracy: 0.9868 - val_loss: 0.2473 - val_accuracy: 0.9053 - 78ms/epoch - 3ms/step\n",
            "Epoch 27/29\n",
            "24/24 - 0s - loss: 0.0516 - accuracy: 0.9855 - val_loss: 0.2512 - val_accuracy: 0.9053 - 73ms/epoch - 3ms/step\n",
            "Epoch 28/29\n",
            "24/24 - 0s - loss: 0.0482 - accuracy: 0.9882 - val_loss: 0.2426 - val_accuracy: 0.9053 - 120ms/epoch - 5ms/step\n",
            "Epoch 29/29\n",
            "24/24 - 0s - loss: 0.0445 - accuracy: 0.9895 - val_loss: 0.2689 - val_accuracy: 0.9000 - 109ms/epoch - 5ms/step\n"
          ]
        }
      ]
    },
    {
      "cell_type": "code",
      "source": [
        "import matplotlib.pyplot as plt\n",
        "\n",
        "# Plot utility\n",
        "def plot_graphs(history, string):\n",
        "  plt.plot(history.history[string])\n",
        "  plt.plot(history.history['val_'+string])\n",
        "  plt.xlabel(\"Epochs\")\n",
        "  plt.ylabel(string)\n",
        "  plt.legend([string, 'val_'+string])\n",
        "  plt.show()\n",
        "\n",
        "# Plot the accuracy and loss\n",
        "plot_graphs(history, \"accuracy\")\n",
        "plot_graphs(history, \"loss\")"
      ],
      "metadata": {
        "id": "e-zyd-JicW6a",
        "colab": {
          "base_uri": "https://localhost:8080/",
          "height": 882
        },
        "outputId": "36a54d1d-4a2d-43b4-f09f-9a3d7f191cf0"
      },
      "execution_count": null,
      "outputs": [
        {
          "output_type": "display_data",
          "data": {
            "text/plain": [
              "<Figure size 640x480 with 1 Axes>"
            ],
            "image/png": "[encoded data removed]"
          },
          "metadata": {}
        },
        {
          "output_type": "display_data",
          "data": {
            "text/plain": [
              "<Figure size 640x480 with 1 Axes>"
            ],
            "image/png": "[encoded data removed]"
          },
          "metadata": {}
        }
      ]
    },
    {
      "cell_type": "code",
      "source": [
        "# Get the index-word dictionary\n",
        "reverse_word_index = tokenizer.index_word\n",
        "\n",
        "# Get the embedding layer from the model (i.e. first layer)\n",
        "embedding_layer = model.layers[0]\n",
        "\n",
        "# Get the weights of the embedding layer\n",
        "embedding_weights = embedding_layer.get_weights()[0]\n",
        "\n",
        "# Print the shape. Expected is (vocab_size, embedding_dim)\n",
        "print(embedding_weights.shape)"
      ],
      "metadata": {
        "id": "kH1kNZ12gWxU",
        "colab": {
          "base_uri": "https://localhost:8080/"
        },
        "outputId": "664d52ba-e83a-4e44-9eda-e27edb786ae5"
      },
      "execution_count": null,
      "outputs": [
        {
          "output_type": "stream",
          "name": "stdout",
          "text": [
            "(500, 32)\n"
          ]
        }
      ]
    }
  ]
}