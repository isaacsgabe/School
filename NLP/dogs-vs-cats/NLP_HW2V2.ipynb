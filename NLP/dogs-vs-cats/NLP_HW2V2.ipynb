{
  "cells": [
    {
      "cell_type": "code",
      "execution_count": 1,
      "metadata": {
        "colab": {
          "base_uri": "https://localhost:8080/"
        },
        "id": "iXyEu1EmX5ui",
        "outputId": "009cbcfe-d06f-4028-f38a-19f75ca9fa81"
      },
      "outputs": [
        {
          "output_type": "stream",
          "name": "stdout",
          "text": [
            "Downloading dogs-vs-cats.zip to /content\n",
            " 99% 806M/812M [00:05<00:00, 154MB/s]\n",
            "100% 812M/812M [00:05<00:00, 150MB/s]\n",
            "Archive:  /content/dogs-vs-cats.zip\n",
            "  inflating: sampleSubmission.csv    \n",
            "  inflating: test1.zip               \n",
            "  inflating: train.zip               \n"
          ]
        }
      ],
      "source": [
        "!echo \"{\\\"username\\\":\\\"gabeisaacs\\\",\\\"key\\\":\\\"a50fa86477b5f2f6c6d3d1e94969d1d7\\\"}\"> kaggle.json\n",
        "!sudo mkdir -p ~/.kaggle\n",
        "!sudo cp /content/kaggle.json ~/.kaggle/kaggle.json\n",
        "!chmod 600 /root/.kaggle/kaggle.json\n",
        "!kaggle competitions download -c dogs-vs-cats\n",
        "!unzip /content/dogs-vs-cats.zip"
      ]
    },
    {
      "cell_type": "code",
      "execution_count": 2,
      "metadata": {
        "id": "oksI60sQYCiv"
      },
      "outputs": [],
      "source": [
        "import os\n",
        "# create directories\n",
        "dataset_home = 'dataset_dogs_vs_cats/'\n",
        "subdirs = ['train/', 'test/']\n",
        "for subdir in subdirs:\n",
        " # create label subdirectories\n",
        " labeldirs = ['dogs/', 'cats/']\n",
        " for labldir in labeldirs:\n",
        "  newdir = dataset_home + subdir + labldir\n",
        "  os.makedirs(newdir, exist_ok=True)\n",
        "\n",
        "import zipfile\n",
        "import os\n",
        "\n",
        "def unzip_file(zip_file, extract_to):\n",
        "    with zipfile.ZipFile(zip_file, 'r') as zip_ref:\n",
        "        zip_ref.extractall(extract_to)\n",
        "\n",
        "# Example usage:\n",
        "zip_file = 'train.zip'\n",
        "extract_to = 'dataset_dogs_vs_cats/dataTrain'\n",
        "\n",
        "# Make sure the extraction directory exists or create it if necessary\n",
        "if not os.path.exists(extract_to):\n",
        "    os.makedirs(extract_to)\n",
        "\n",
        "unzip_file(zip_file, extract_to)\n",
        "\n",
        "zip_file = 'test1.zip'\n",
        "extract_to = 'dataset_dogs_vs_cats/dataTest'\n",
        "unzip_file(zip_file, extract_to)"
      ]
    },
    {
      "cell_type": "code",
      "execution_count": 3,
      "metadata": {
        "colab": {
          "base_uri": "https://localhost:8080/"
        },
        "id": "C98YlpXRZPDU",
        "outputId": "3d586c07-1f31-49f4-f5f8-e511b3287d1b"
      },
      "outputs": [
        {
          "output_type": "stream",
          "name": "stdout",
          "text": [
            "Total number of files: 3181\n"
          ]
        }
      ],
      "source": [
        "import os\n",
        "import shutil\n",
        "import random\n",
        "# seed random number generator\n",
        "random.seed(1)\n",
        "# define ratio of pictures to use for validation\n",
        "val_ratio = 0.25\n",
        "\n",
        "src_directory = 'dataset_dogs_vs_cats/dataTrain/train'\n",
        "for file in os.listdir(src_directory):\n",
        "    src = os.path.join(src_directory, file)\n",
        "    dst_dir = 'dataset_dogs_vs_cats/train/'\n",
        "    if random.random() < val_ratio:\n",
        "      dst_dir = 'dataset_dogs_vs_cats/test/'\n",
        "    if file.startswith('cat'):\n",
        "        dst = os.path.join(dst_dir, 'cats', file)\n",
        "        shutil.copyfile(src, dst)\n",
        "    elif file.startswith('dog'):\n",
        "        dst = os.path.join(dst_dir, 'dogs', file)\n",
        "        shutil.copyfile(src, dst)\n",
        "\n",
        "directory = 'dataset_dogs_vs_cats/test/cats'\n",
        "files = os.listdir(directory)\n",
        "total_files = len(files)\n",
        "print(\"Total number of files:\", total_files)"
      ]
    },
    {
      "cell_type": "code",
      "execution_count": null,
      "metadata": {
        "colab": {
          "base_uri": "https://localhost:8080/"
        },
        "id": "NX2FYzjkXy03",
        "outputId": "a0833e6e-4e91-4241-c2ab-b2741efccb82"
      },
      "outputs": [
        {
          "metadata": {
            "tags": null
          },
          "name": "stdout",
          "output_type": "stream",
          "text": [
            "Downloading data from https://storage.googleapis.com/tensorflow/keras-applications/vgg16/vgg16_weights_tf_dim_ordering_tf_kernels_notop.h5\n",
            "58889256/58889256 [==============================] - 0s 0us/step\n"
          ]
        },
        {
          "metadata": {
            "tags": null
          },
          "name": "stderr",
          "output_type": "stream",
          "text": [
            "WARNING:absl:`lr` is deprecated in Keras optimizer, please use `learning_rate` or use the legacy optimizer, e.g.,tf.keras.optimizers.legacy.SGD.\n"
          ]
        },
        {
          "metadata": {
            "tags": null
          },
          "name": "stdout",
          "output_type": "stream",
          "text": [
            "Found 18697 images belonging to 2 classes.\n",
            "Found 6303 images belonging to 2 classes.\n"
          ]
        },
        {
          "metadata": {
            "tags": null
          },
          "name": "stderr",
          "output_type": "stream",
          "text": [
            "<ipython-input-4-c1e627d9ca77>:70: UserWarning: `Model.fit_generator` is deprecated and will be removed in a future version. Please use `Model.fit`, which supports generators.\n",
            "  history = model.fit_generator(train_it, steps_per_epoch=len(train_it),validation_data=test_it, validation_steps=len(test_it), epochs=2, verbose=1)\n"
          ]
        },
        {
          "output_type": "stream",
          "name": "stdout",
          "text": [
            "Epoch 1/2\n",
            "293/293 [==============================] - ETA: 0s - loss: 0.7645 - accuracy: 0.9350 "
          ]
        }
      ],
      "source": [
        "import sys\n",
        "from matplotlib import pyplot\n",
        "from keras.utils import to_categorical\n",
        "from keras.applications.vgg16 import VGG16\n",
        "from keras.models import Model\n",
        "from keras.layers import Dense, Flatten\n",
        "from keras.optimizers import SGD\n",
        "from keras.preprocessing.image import ImageDataGenerator\n",
        "\n",
        "# Define CNN model\n",
        "def define_model():\n",
        "    # Load model\n",
        "    model = VGG16(include_top=False, input_shape=(224, 224, 3))\n",
        "\n",
        "    # Mark loaded layers as not trainable\n",
        "    for layer in model.layers:\n",
        "        layer.trainable = False\n",
        "\n",
        "    # Add new classifier layers\n",
        "    flat1 = Flatten()(model.layers[-1].output)\n",
        "    class1 = Dense(128, activation='relu', kernel_initializer='he_uniform')(flat1)\n",
        "    output = Dense(1, activation='sigmoid')(class1)\n",
        "\n",
        "    # Define new model\n",
        "    model = Model(inputs=model.inputs, outputs=output)\n",
        "\n",
        "    # Compile model\n",
        "    opt = SGD(lr=0.001, momentum=0.9)\n",
        "    model.compile(optimizer=opt, loss='binary_crossentropy', metrics=['accuracy'])\n",
        "\n",
        "    return model\n",
        "\n",
        "# Plot diagnostic learning curves\n",
        "def summarize_diagnostics(history):\n",
        "    # Plot loss\n",
        "    pyplot.subplot(211)\n",
        "    pyplot.title('Cross Entropy Loss')\n",
        "    pyplot.plot(history.history['loss'], color='blue', label='train')\n",
        "    pyplot.plot(history.history['val_loss'], color='orange', label='test')\n",
        "\n",
        "    # Plot accuracy\n",
        "    pyplot.subplot(212)\n",
        "    pyplot.title('Classification Accuracy')\n",
        "    pyplot.plot(history.history['accuracy'], color='blue', label='train')\n",
        "    pyplot.plot(history.history['val_accuracy'], color='orange', label='test')\n",
        "\n",
        "    # Save plot to file\n",
        "    filename = sys.argv[0].split('/')[-1]\n",
        "    pyplot.savefig(filename + '_plot.png')\n",
        "    pyplot.close()\n",
        "\n",
        "# Run the test harness for evaluating a model\n",
        "def run_test_harness():\n",
        "    # Define model\n",
        "    model = define_model()\n",
        "\n",
        "    # Create data generator\n",
        "    datagen = ImageDataGenerator(featurewise_center=True)\n",
        "\n",
        "    # Specify ImageNet mean values for centering\n",
        "    datagen.mean = [123.68, 116.779, 103.939]\n",
        "\n",
        "    # Prepare iterator\n",
        "    train_it = datagen.flow_from_directory('dataset_dogs_vs_cats/train/',\n",
        "                                           class_mode='binary', batch_size=64, target_size=(224, 224))\n",
        "    test_it = datagen.flow_from_directory('dataset_dogs_vs_cats/test/',\n",
        "                                          class_mode='binary', batch_size=64, target_size=(224, 224))\n",
        "\n",
        "    # Fit model\n",
        "    history = model.fit_generator(train_it, steps_per_epoch=len(train_it),validation_data=test_it, validation_steps=len(test_it), epochs=2, verbose=1)\n",
        "\n",
        "    # Evaluate model\n",
        "    _, acc = model.evaluate_generator(test_it, steps=len(test_it), verbose=0)\n",
        "    print('> %.3f' % (acc * 100.0))\n",
        "\n",
        "    # Learning curves\n",
        "    summarize_diagnostics(history)\n",
        "\n",
        "# Entry point, run the test harness\n",
        "run_test_harness()\n"
      ]
    }
  ],
  "metadata": {
    "colab": {
      "provenance": []
    },
    "kernelspec": {
      "display_name": "Python 3",
      "name": "python3"
    },
    "language_info": {
      "name": "python"
    }
  },
  "nbformat": 4,
  "nbformat_minor": 0
}