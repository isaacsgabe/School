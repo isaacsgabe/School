{
  "nbformat": 4,
  "nbformat_minor": 0,
  "metadata": {
    "colab": {
      "provenance": [],
      "include_colab_link": true
    },
    "kernelspec": {
      "name": "python3",
      "display_name": "Python 3"
    },
    "language_info": {
      "name": "python"
    }
  },
  "cells": [
    {
      "cell_type": "markdown",
      "metadata": {
        "id": "view-in-github",
        "colab_type": "text"
      },
      "source": [
        "<a href=\"https://colab.research.google.com/github/isaacsgabe/School/blob/main/ML/HW2PT2.ipynb\" target=\"_parent\"><img src=\"https://colab.research.google.com/assets/colab-badge.svg\" alt=\"Open In Colab\"/></a>"
      ]
    },
    {
      "cell_type": "code",
      "execution_count": null,
      "metadata": {
        "id": "6WviPV28ebxG"
      },
      "outputs": [],
      "source": [
        "#imports\n",
        "import pandas as pd\n",
        "import numpy as np\n",
        "import tensorflow as tf\n",
        "import matplotlib.pyplot as plt\n",
        "from sklearn.model_selection import train_test_split\n",
        "from sklearn.datasets import load_iris\n",
        "from sklearn.preprocessing import MinMaxScaler"
      ]
    },
    {
      "cell_type": "markdown",
      "source": [
        "**Data Pre-processing and Visualaztion**"
      ],
      "metadata": {
        "id": "M8SmEIz8Z6TP"
      }
    },
    {
      "cell_type": "code",
      "source": [
        "iris = load_iris()\n",
        "x = iris[\"data\"][:, 2:] # petal width\n",
        "y = (iris[\"target\"] == 0).astype(int) # 1 if Iris-Virginica, else 0\n",
        "colormap = iris.target_names\n",
        "for i in range(len(colormap)):\n",
        "  if colormap[i] == 'setosa':\n",
        "    colormap[i] = 'r'\n",
        "  else:\n",
        "    colormap[i] = 'b'\n",
        "def plot_scatter(X, y, colormap, path):\n",
        "  plt.grid()\n",
        "  plt.xlabel('$petal length (cm)$', size=20)\n",
        "  plt.ylabel('$petal width (cm)$', size=20)\n",
        "  plt.title('Input 2D points', size=18)\n",
        "  plt.scatter(X[:,0], X[:, 1], s=50, c=colormap[y])\n",
        "  plt.savefig(path)\n",
        "plot_scatter(x, y, colormap, 'image.png')"
      ],
      "metadata": {
        "id": "IFVYU1svfgvB",
        "colab": {
          "base_uri": "https://localhost:8080/",
          "height": 312
        },
        "outputId": "3c6fc085-5415-4f9e-87fb-4b61e542ef4a"
      },
      "execution_count": null,
      "outputs": [
        {
          "output_type": "display_data",
          "data": {
            "text/plain": [
              "<Figure size 432x288 with 1 Axes>"
            ],
            "image/png": "[encoded data removed]"
          },
          "metadata": {
            "needs_background": "light"
          }
        }
      ]
    },
    {
      "cell_type": "code",
      "source": [
        "# https://www.kaggle.com/code/dorianlazar/logistic-regression-with-tensorflow/notebook\n",
        "#some of the code can be used hear, however it was from a different data set\n",
        "\n",
        "#get out iris data split into testing and training data.\n",
        "x_train, x_test, y_train, y_test = train_test_split(x, y, train_size=0.8)\n",
        "\n",
        "#scale our training data\n",
        "scaler = MinMaxScaler().fit(x_train)\n",
        "x_train, x_test = scaler.transform(x_train), scaler.transform(x_test)"
      ],
      "metadata": {
        "id": "LA8bvrC1vbqS"
      },
      "execution_count": null,
      "outputs": []
    },
    {
      "cell_type": "code",
      "source": [
        "#using the sigmoid function begin the process of building a classifier\n",
        "model = tf.keras.models.Sequential([\n",
        "    tf.keras.layers.Dense(1, activation='sigmoid')\n",
        "])\n",
        "#create an optimized that will enhance our learning rate\n",
        "opt = tf.keras.optimizers.Adam(learning_rate=4)\n",
        "#calculate our loss and measure out accuracy.\n",
        "model.compile(loss='bce', metrics=['accuracy'], optimizer= opt)\n",
        "\n",
        "#fit our data and print out our loss and accuracy\n",
        "model.fit(x_train, y_train, epochs=20)\n"
      ],
      "metadata": {
        "id": "pxpGUqXkvlJg",
        "colab": {
          "base_uri": "https://localhost:8080/"
        },
        "outputId": "41930076-4cc9-44e5-c67e-fdc0b9cab182"
      },
      "execution_count": null,
      "outputs": [
        {
          "output_type": "stream",
          "name": "stdout",
          "text": [
            "Epoch 1/20\n",
            "4/4 [==============================] - 0s 3ms/step - loss: 0.9058 - accuracy: 0.6667\n",
            "Epoch 2/20\n",
            "4/4 [==============================] - 0s 3ms/step - loss: 0.0466 - accuracy: 0.9833\n",
            "Epoch 3/20\n",
            "4/4 [==============================] - 0s 3ms/step - loss: 0.1089 - accuracy: 0.9500\n",
            "Epoch 4/20\n",
            "4/4 [==============================] - 0s 3ms/step - loss: 0.0086 - accuracy: 1.0000\n",
            "Epoch 5/20\n",
            "4/4 [==============================] - 0s 3ms/step - loss: 1.3407e-04 - accuracy: 1.0000\n",
            "Epoch 6/20\n",
            "4/4 [==============================] - 0s 3ms/step - loss: 3.0494e-04 - accuracy: 1.0000\n",
            "Epoch 7/20\n",
            "4/4 [==============================] - 0s 3ms/step - loss: 4.7489e-04 - accuracy: 1.0000\n",
            "Epoch 8/20\n",
            "4/4 [==============================] - 0s 4ms/step - loss: 7.7516e-04 - accuracy: 1.0000\n",
            "Epoch 9/20\n",
            "4/4 [==============================] - 0s 3ms/step - loss: 0.0010 - accuracy: 1.0000\n",
            "Epoch 10/20\n",
            "4/4 [==============================] - 0s 3ms/step - loss: 0.0012 - accuracy: 1.0000\n",
            "Epoch 11/20\n",
            "4/4 [==============================] - 0s 3ms/step - loss: 0.0012 - accuracy: 1.0000\n",
            "Epoch 12/20\n",
            "4/4 [==============================] - 0s 3ms/step - loss: 0.0011 - accuracy: 1.0000\n",
            "Epoch 13/20\n",
            "4/4 [==============================] - 0s 3ms/step - loss: 9.1758e-04 - accuracy: 1.0000\n",
            "Epoch 14/20\n",
            "4/4 [==============================] - 0s 3ms/step - loss: 8.2362e-04 - accuracy: 1.0000\n",
            "Epoch 15/20\n",
            "4/4 [==============================] - 0s 3ms/step - loss: 6.4393e-04 - accuracy: 1.0000\n",
            "Epoch 16/20\n",
            "4/4 [==============================] - 0s 3ms/step - loss: 5.7160e-04 - accuracy: 1.0000\n",
            "Epoch 17/20\n",
            "4/4 [==============================] - 0s 3ms/step - loss: 4.6677e-04 - accuracy: 1.0000\n",
            "Epoch 18/20\n",
            "4/4 [==============================] - 0s 3ms/step - loss: 3.9793e-04 - accuracy: 1.0000\n",
            "Epoch 19/20\n",
            "4/4 [==============================] - 0s 3ms/step - loss: 3.4717e-04 - accuracy: 1.0000\n",
            "Epoch 20/20\n",
            "4/4 [==============================] - 0s 3ms/step - loss: 3.1339e-04 - accuracy: 1.0000\n"
          ]
        },
        {
          "output_type": "execute_result",
          "data": {
            "text/plain": [
              "<keras.callbacks.History at 0x7fd28e9ad520>"
            ]
          },
          "metadata": {},
          "execution_count": 126
        }
      ]
    },
    {
      "cell_type": "code",
      "source": [
        "#final evaluation of our model\n",
        "model.evaluate(x_test, y_test)"
      ],
      "metadata": {
        "colab": {
          "base_uri": "https://localhost:8080/"
        },
        "id": "CYVNoLELvqEd",
        "outputId": "05bc08f0-25eb-440e-e16d-2d69979938e5"
      },
      "execution_count": null,
      "outputs": [
        {
          "output_type": "stream",
          "name": "stdout",
          "text": [
            "1/1 [==============================] - 0s 109ms/step - loss: 1.5198e-05 - accuracy: 1.0000\n"
          ]
        },
        {
          "output_type": "execute_result",
          "data": {
            "text/plain": [
              "[1.5197641914710402e-05, 1.0]"
            ]
          },
          "metadata": {},
          "execution_count": 122
        }
      ]
    }
  ]
}